{
 "cells": [
  {
   "cell_type": "code",
   "execution_count": 1,
   "id": "d28b9d50-31c6-429e-803b-746a17cd4d35",
   "metadata": {},
   "outputs": [],
   "source": [
    "amis = [\"Paate\",\"Yero\",\"Kodda\",\"Teen\"]\n",
    "\n",
    "aniv = [\"Novembre\",\"Fevrier\",\"Juin\",\"Octobre\"]"
   ]
  },
  {
   "cell_type": "markdown",
   "id": "03d97ac8-3fe7-4dbc-9f92-79e2124f6331",
   "metadata": {},
   "source": [
    "Affichez  :\n",
    "Paate est ne  en Novembre\n",
    "Yero   est né en Fevrier\n",
    "Kodda est né en Juin\n",
    "Teen est né en Octobre"
   ]
  }
 ],
 "metadata": {
  "kernelspec": {
   "display_name": "Python 3 (ipykernel)",
   "language": "python",
   "name": "python3"
  },
  "language_info": {
   "codemirror_mode": {
    "name": "ipython",
    "version": 3
   },
   "file_extension": ".py",
   "mimetype": "text/x-python",
   "name": "python",
   "nbconvert_exporter": "python",
   "pygments_lexer": "ipython3",
   "version": "3.11.1"
  }
 },
 "nbformat": 4,
 "nbformat_minor": 5
}
